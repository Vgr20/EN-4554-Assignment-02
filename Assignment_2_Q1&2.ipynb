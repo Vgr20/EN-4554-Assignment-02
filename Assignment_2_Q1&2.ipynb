{
 "cells": [
  {
   "cell_type": "code",
   "execution_count": 2,
   "metadata": {},
   "outputs": [],
   "source": [
    "import numpy as np\n",
    "import matplotlib.pyplot as plt\n",
    "import torch"
   ]
  },
  {
   "cell_type": "code",
   "execution_count": 10,
   "metadata": {},
   "outputs": [
    {
     "name": "stdout",
     "output_type": "stream",
     "text": [
      "tensor([ 0.5326, -0.9852,  1.4323])\n",
      "tensor([[[ 0.2569,  0.1824,  0.5560],\n",
      "         [ 1.1677,  0.7864,  0.4633],\n",
      "         [ 1.0062,  0.7750,  0.5920],\n",
      "         ...,\n",
      "         [ 2.3666, -3.0112,  3.1296],\n",
      "         [ 1.5233, -0.7003,  2.6729],\n",
      "         [ 0.5104, -0.1181,  0.5898]],\n",
      "\n",
      "        [[ 0.1451, -1.9456,  1.2210],\n",
      "         [ 0.4327,  0.2485,  2.1030],\n",
      "         [-0.0566, -2.5209,  0.5707],\n",
      "         ...,\n",
      "         [ 0.3648,  0.4728,  2.8926],\n",
      "         [ 0.4328, -1.4612, -0.0870],\n",
      "         [-0.5739, -0.9278,  0.1273]],\n",
      "\n",
      "        [[-0.2190, -2.7304,  0.0665],\n",
      "         [-0.2584,  0.7486,  2.3157],\n",
      "         [-0.0130, -0.8431,  2.0532],\n",
      "         ...,\n",
      "         [ 1.5957, -1.6160,  1.1896],\n",
      "         [ 0.5691, -1.4558,  3.6924],\n",
      "         [ 1.0496, -0.1551,  1.9503]],\n",
      "\n",
      "        ...,\n",
      "\n",
      "        [[ 0.3519, -1.0618,  2.8928],\n",
      "         [-0.7243, -1.2394,  1.7956],\n",
      "         [-1.3903, -3.3179,  2.6307],\n",
      "         ...,\n",
      "         [ 0.6322, -2.1007,  1.8944],\n",
      "         [-0.2826, -1.6059,  0.2583],\n",
      "         [-0.2905, -1.4889,  1.0036]],\n",
      "\n",
      "        [[-0.2164, -0.0989, -0.6413],\n",
      "         [ 1.3450, -1.4441,  0.5683],\n",
      "         [ 0.1196, -1.0828,  1.8329],\n",
      "         ...,\n",
      "         [-0.1572, -0.2903,  2.0522],\n",
      "         [ 1.0541, -0.0974,  2.0498],\n",
      "         [ 1.4602, -0.4681, -0.5648]],\n",
      "\n",
      "        [[-0.2682, -0.9014,  3.0136],\n",
      "         [-0.9584,  1.6456, -0.3343],\n",
      "         [ 0.3785, -2.7937, -0.7379],\n",
      "         ...,\n",
      "         [-0.7111,  1.3846,  0.8350],\n",
      "         [ 0.5484, -0.9919,  2.7187],\n",
      "         [ 1.0005, -0.7545,  1.7065]]])\n",
      "shape of a+b:  torch.Size([256, 256, 3])\n"
     ]
    }
   ],
   "source": [
    "# Question 1\n",
    "\n",
    "# a + b\n",
    "a = torch.randn(256, 256, 3)\n",
    "b = torch.randn(3, )\n",
    "\n",
    "# print(a)\n",
    "print(b)\n",
    "c = a + b\n",
    "print(a + b)\n",
    "print(\"shape of a+b: \", c.shape)"
   ]
  },
  {
   "cell_type": "code",
   "execution_count": null,
   "metadata": {},
   "outputs": [],
   "source": []
  },
  {
   "cell_type": "code",
   "execution_count": 13,
   "metadata": {},
   "outputs": [
    {
     "ename": "RuntimeError",
     "evalue": "The size of tensor a (2) must match the size of tensor b (9) at non-singleton dimension 1",
     "output_type": "error",
     "traceback": [
      "\u001b[0;31m---------------------------------------------------------------------------\u001b[0m",
      "\u001b[0;31mRuntimeError\u001b[0m                              Traceback (most recent call last)",
      "Cell \u001b[0;32mIn[13], line 5\u001b[0m\n\u001b[1;32m      2\u001b[0m a \u001b[38;5;241m=\u001b[39m torch\u001b[38;5;241m.\u001b[39mrandn(\u001b[38;5;241m10\u001b[39m, \u001b[38;5;241m2\u001b[39m, \u001b[38;5;241m6\u001b[39m, \u001b[38;5;241m1\u001b[39m)\n\u001b[1;32m      3\u001b[0m b  \u001b[38;5;241m=\u001b[39mtorch\u001b[38;5;241m.\u001b[39mrandn(\u001b[38;5;241m9\u001b[39m, \u001b[38;5;241m1\u001b[39m, \u001b[38;5;241m7\u001b[39m)\n\u001b[0;32m----> 5\u001b[0m c \u001b[38;5;241m=\u001b[39m \u001b[43ma\u001b[49m\u001b[43m \u001b[49m\u001b[38;5;241;43m-\u001b[39;49m\u001b[43m \u001b[49m\u001b[43mb\u001b[49m\n\u001b[1;32m      6\u001b[0m \u001b[38;5;28mprint\u001b[39m(a \u001b[38;5;241m-\u001b[39m b)\n\u001b[1;32m      7\u001b[0m \u001b[38;5;28mprint\u001b[39m(\u001b[38;5;124m\"\u001b[39m\u001b[38;5;124mshape of a-b: \u001b[39m\u001b[38;5;124m\"\u001b[39m, c\u001b[38;5;241m.\u001b[39mshape)\n",
      "\u001b[0;31mRuntimeError\u001b[0m: The size of tensor a (2) must match the size of tensor b (9) at non-singleton dimension 1"
     ]
    }
   ],
   "source": [
    "# a - b\n",
    "a = torch.randn(10, 2, 6, 1)\n",
    "b  =torch.randn(9, 1, 7)\n",
    "\n",
    "c = a - b\n",
    "print(a - b)\n",
    "print(\"shape of a-b: \", c.shape)"
   ]
  },
  {
   "cell_type": "code",
   "execution_count": 12,
   "metadata": {},
   "outputs": [
    {
     "ename": "RuntimeError",
     "evalue": "The size of tensor a (2) must match the size of tensor b (4) at non-singleton dimension 0",
     "output_type": "error",
     "traceback": [
      "\u001b[1;31m---------------------------------------------------------------------------\u001b[0m",
      "\u001b[1;31mRuntimeError\u001b[0m                              Traceback (most recent call last)",
      "Cell \u001b[1;32mIn[12], line 5\u001b[0m\n\u001b[0;32m      2\u001b[0m a \u001b[38;5;241m=\u001b[39m torch\u001b[38;5;241m.\u001b[39mrandn(\u001b[38;5;241m2\u001b[39m, )\n\u001b[0;32m      3\u001b[0m b \u001b[38;5;241m=\u001b[39m torch\u001b[38;5;241m.\u001b[39mrandn(\u001b[38;5;241m4\u001b[39m, )\n\u001b[1;32m----> 5\u001b[0m c \u001b[38;5;241m=\u001b[39m \u001b[43ma\u001b[49m\u001b[43m \u001b[49m\u001b[38;5;241;43m*\u001b[39;49m\u001b[43m \u001b[49m\u001b[43mb\u001b[49m\n\u001b[0;32m      6\u001b[0m \u001b[38;5;28mprint\u001b[39m(a \u001b[38;5;241m*\u001b[39m b)\n\u001b[0;32m      7\u001b[0m \u001b[38;5;28mprint\u001b[39m(\u001b[38;5;124m\"\u001b[39m\u001b[38;5;124mshape of a*b: \u001b[39m\u001b[38;5;124m\"\u001b[39m, c\u001b[38;5;241m.\u001b[39mshape)\n",
      "\u001b[1;31mRuntimeError\u001b[0m: The size of tensor a (2) must match the size of tensor b (4) at non-singleton dimension 0"
     ]
    }
   ],
   "source": [
    "# a * b\n",
    "a = torch.randn(2, )\n",
    "b = torch.randn(4, )\n",
    "\n",
    "c = a * b\n",
    "print(a * b)\n",
    "print(\"shape of a*b: \", c.shape)"
   ]
  },
  {
   "cell_type": "code",
   "execution_count": 13,
   "metadata": {},
   "outputs": [
    {
     "ename": "RuntimeError",
     "evalue": "The size of tensor a (4) must match the size of tensor b (5) at non-singleton dimension 1",
     "output_type": "error",
     "traceback": [
      "\u001b[1;31m---------------------------------------------------------------------------\u001b[0m",
      "\u001b[1;31mRuntimeError\u001b[0m                              Traceback (most recent call last)",
      "Cell \u001b[1;32mIn[13], line 5\u001b[0m\n\u001b[0;32m      2\u001b[0m a \u001b[38;5;241m=\u001b[39m torch\u001b[38;5;241m.\u001b[39mrandn(\u001b[38;5;241m4\u001b[39m, \u001b[38;5;241m1\u001b[39m)\n\u001b[0;32m      3\u001b[0m b \u001b[38;5;241m=\u001b[39m torch\u001b[38;5;241m.\u001b[39mrandn(\u001b[38;5;241m8\u001b[39m, \u001b[38;5;241m5\u001b[39m, \u001b[38;5;241m3\u001b[39m)\n\u001b[1;32m----> 5\u001b[0m c \u001b[38;5;241m=\u001b[39m \u001b[43ma\u001b[49m\u001b[43m \u001b[49m\u001b[38;5;241;43m/\u001b[39;49m\u001b[43m \u001b[49m\u001b[43mb\u001b[49m\n\u001b[0;32m      6\u001b[0m \u001b[38;5;28mprint\u001b[39m(a \u001b[38;5;241m/\u001b[39m b)\n\u001b[0;32m      7\u001b[0m \u001b[38;5;28mprint\u001b[39m(\u001b[38;5;124m\"\u001b[39m\u001b[38;5;124mshape of a/b: \u001b[39m\u001b[38;5;124m\"\u001b[39m, c\u001b[38;5;241m.\u001b[39mshape)\n",
      "\u001b[1;31mRuntimeError\u001b[0m: The size of tensor a (4) must match the size of tensor b (5) at non-singleton dimension 1"
     ]
    }
   ],
   "source": [
    "# a / b\n",
    "a = torch.randn(4, 1)\n",
    "b = torch.randn(8, 5, 3)\n",
    "\n",
    "c = a / b\n",
    "print(a / b)\n",
    "print(\"shape of a/b: \", c.shape)"
   ]
  },
  {
   "cell_type": "code",
   "execution_count": 14,
   "metadata": {},
   "outputs": [
    {
     "name": "stdout",
     "output_type": "stream",
     "text": [
      "tensor([[[-1.7309, -1.3702],\n",
      "         [-1.4528,  0.1082],\n",
      "         [ 0.0153, -0.1580]],\n",
      "\n",
      "        [[-1.7011, -1.5007],\n",
      "         [ 0.4616,  0.2882],\n",
      "         [ 0.6490, -1.2847]],\n",
      "\n",
      "        [[ 1.0765,  0.2060],\n",
      "         [ 0.7291,  1.1663],\n",
      "         [ 0.7049,  1.3727]],\n",
      "\n",
      "        [[ 0.8061, -1.1776],\n",
      "         [ 2.6355,  0.0448],\n",
      "         [ 1.6704, -0.3918]],\n",
      "\n",
      "        [[ 0.0594,  0.3879],\n",
      "         [-0.2301,  0.2670],\n",
      "         [ 1.4516,  2.0242]]])\n",
      "shape of a-b:  torch.Size([5, 3, 2])\n"
     ]
    }
   ],
   "source": [
    "# a - b\n",
    "a = torch.randn(5, 3, 2)\n",
    "b  =torch.randn(5, 1, 2)\n",
    "\n",
    "c = a - b\n",
    "print(a - b)\n",
    "print(\"shape of a-b: \", c.shape)"
   ]
  },
  {
   "cell_type": "code",
   "execution_count": 27,
   "metadata": {},
   "outputs": [
    {
     "name": "stdout",
     "output_type": "stream",
     "text": [
      "torch.Size([1, 128, 1])\n"
     ]
    }
   ],
   "source": [
    "# a - b.mean()\n",
    "a = torch.randn(128, 128, 3)\n",
    "b  =torch.randn(256, 128, 5)\n",
    "d = b.mean(axis=(0,2),keepdims=True)\n",
    "print(d.shape)\n",
    "# c = a - b.mean()\n",
    "# print(c)\n",
    "# print(\"shape of a-b.mean(): \", c.shape)"
   ]
  },
  {
   "cell_type": "code",
   "execution_count": 16,
   "metadata": {},
   "outputs": [
    {
     "ename": "RuntimeError",
     "evalue": "The size of tensor a (256) must match the size of tensor b (3) at non-singleton dimension 2",
     "output_type": "error",
     "traceback": [
      "\u001b[1;31m---------------------------------------------------------------------------\u001b[0m",
      "\u001b[1;31mRuntimeError\u001b[0m                              Traceback (most recent call last)",
      "Cell \u001b[1;32mIn[16], line 5\u001b[0m\n\u001b[0;32m      2\u001b[0m a \u001b[38;5;241m=\u001b[39m torch\u001b[38;5;241m.\u001b[39mrandn(\u001b[38;5;241m3\u001b[39m, \u001b[38;5;241m256\u001b[39m, \u001b[38;5;241m256\u001b[39m)\n\u001b[0;32m      3\u001b[0m b  \u001b[38;5;241m=\u001b[39mtorch\u001b[38;5;241m.\u001b[39mrandn(\u001b[38;5;241m3\u001b[39m, \u001b[38;5;241m256\u001b[39m, \u001b[38;5;241m256\u001b[39m)\n\u001b[1;32m----> 5\u001b[0m c \u001b[38;5;241m=\u001b[39m \u001b[43ma\u001b[49m\u001b[43m \u001b[49m\u001b[38;5;241;43m-\u001b[39;49m\u001b[43m \u001b[49m\u001b[43mb\u001b[49m\u001b[38;5;241;43m.\u001b[39;49m\u001b[43mmean\u001b[49m\u001b[43m(\u001b[49m\u001b[43maxis\u001b[49m\u001b[38;5;241;43m=\u001b[39;49m\u001b[43m(\u001b[49m\u001b[38;5;241;43m1\u001b[39;49m\u001b[43m,\u001b[49m\u001b[43m \u001b[49m\u001b[38;5;241;43m2\u001b[39;49m\u001b[43m)\u001b[49m\u001b[43m)\u001b[49m\n\u001b[0;32m      6\u001b[0m \u001b[38;5;28mprint\u001b[39m(c)\n\u001b[0;32m      7\u001b[0m \u001b[38;5;28mprint\u001b[39m(\u001b[38;5;124m\"\u001b[39m\u001b[38;5;124mshape of a-b.mean(axis=(1, 2)): \u001b[39m\u001b[38;5;124m\"\u001b[39m, c\u001b[38;5;241m.\u001b[39mshape)\n",
      "\u001b[1;31mRuntimeError\u001b[0m: The size of tensor a (256) must match the size of tensor b (3) at non-singleton dimension 2"
     ]
    }
   ],
   "source": [
    "# a - b.mean(axis=(1, 2))\n",
    "a = torch.randn(3, 256, 256)\n",
    "b  =torch.randn(3, 256, 256)\n",
    "\n",
    "c = a - b.mean(axis=(1, 2))\n",
    "print(c)\n",
    "print(\"shape of a-b.mean(axis=(1, 2)): \", c.shape)"
   ]
  },
  {
   "cell_type": "code",
   "execution_count": 17,
   "metadata": {},
   "outputs": [
    {
     "name": "stdout",
     "output_type": "stream",
     "text": [
      "tensor([[[-2.2395,  0.0247, -1.5721,  ..., -0.3044, -1.1629, -0.3098],\n",
      "         [-0.9250, -1.4303, -0.7383,  ...,  0.3482,  0.6283, -0.3130],\n",
      "         [ 0.9786, -0.5869, -1.2731,  ...,  0.1095, -1.2083, -0.3547],\n",
      "         ...,\n",
      "         [-0.2001,  0.5430, -0.0252,  ..., -0.5303,  0.1550,  1.1469],\n",
      "         [-0.2200,  0.2501,  1.0996,  ..., -1.1276, -1.3612, -3.4823],\n",
      "         [-0.2161,  0.9807,  0.5511,  ..., -0.5383, -1.9823, -1.1695]],\n",
      "\n",
      "        [[-0.2642,  0.0618, -0.3088,  ..., -0.3509,  0.3341,  0.5641],\n",
      "         [-1.5980,  0.3693,  0.7544,  ..., -0.3001, -0.3082,  0.6980],\n",
      "         [-0.4137,  0.5009,  0.9219,  ..., -0.1386, -0.7766, -1.2497],\n",
      "         ...,\n",
      "         [ 0.1104, -0.5222, -0.4684,  ...,  0.0548, -0.7141, -0.0599],\n",
      "         [ 0.2632, -0.1616, -0.4961,  ..., -0.8813,  1.5873, -1.6117],\n",
      "         [ 0.4254, -0.2297, -0.7302,  ...,  0.5846,  2.4447, -0.9767]],\n",
      "\n",
      "        [[ 0.6228,  0.4188, -0.3582,  ...,  1.8908,  0.7606,  0.4153],\n",
      "         [-0.9307, -0.3632,  0.8036,  ...,  1.4379,  1.9313,  0.8380],\n",
      "         [ 0.7944,  0.4174, -0.9438,  ..., -0.7129, -0.8937,  1.4021],\n",
      "         ...,\n",
      "         [-0.4840,  0.5688, -1.0052,  ..., -1.4719, -1.9937,  0.5526],\n",
      "         [ 0.5695,  0.2977, -1.2536,  ...,  1.2647, -0.4825, -0.4603],\n",
      "         [-0.2754,  1.1218, -1.1443,  ..., -2.0775,  0.9430,  0.8774]]])\n",
      "shape of a-b.mean(axis=(1, 2), keepdims=True):  torch.Size([3, 256, 256])\n"
     ]
    }
   ],
   "source": [
    "# a - b.mean(axis=(1, 2), keepdims=True)\n",
    "a = torch.randn(3, 256, 256)\n",
    "b  =torch.randn(3, 256, 256)\n",
    "\n",
    "c = a - b.mean(axis=(1, 2), keepdims=True)\n",
    "print(c)\n",
    "print(\"shape of a-b.mean(axis=(1, 2), keepdims=True): \", c.shape)"
   ]
  },
  {
   "cell_type": "code",
   "execution_count": 29,
   "metadata": {},
   "outputs": [
    {
     "ename": "ValueError",
     "evalue": "matmul: Input operand 1 has a mismatch in its core dimension 0, with gufunc signature (n?,k),(k,m?)->(n?,m?) (size 4 is different from 3)",
     "output_type": "error",
     "traceback": [
      "\u001b[0;31m---------------------------------------------------------------------------\u001b[0m",
      "\u001b[0;31mValueError\u001b[0m                                Traceback (most recent call last)",
      "Cell \u001b[0;32mIn[29], line 5\u001b[0m\n\u001b[1;32m      2\u001b[0m a \u001b[38;5;241m=\u001b[39m torch\u001b[38;5;241m.\u001b[39mrandn(\u001b[38;5;241m7\u001b[39m,\u001b[38;5;241m6\u001b[39m, \u001b[38;5;241m5\u001b[39m, \u001b[38;5;241m3\u001b[39m)\n\u001b[1;32m      3\u001b[0m b  \u001b[38;5;241m=\u001b[39mtorch\u001b[38;5;241m.\u001b[39mrandn(\u001b[38;5;241m4\u001b[39m, \u001b[38;5;241m4\u001b[39m)\n\u001b[0;32m----> 5\u001b[0m c \u001b[38;5;241m=\u001b[39m \u001b[43mnp\u001b[49m\u001b[38;5;241;43m.\u001b[39;49m\u001b[43mmatmul\u001b[49m\u001b[43m(\u001b[49m\u001b[43ma\u001b[49m\u001b[43m,\u001b[49m\u001b[43m \u001b[49m\u001b[43mb\u001b[49m\u001b[43m)\u001b[49m\n\u001b[1;32m      6\u001b[0m \u001b[38;5;28mprint\u001b[39m(c)\n\u001b[1;32m      7\u001b[0m \u001b[38;5;28mprint\u001b[39m(\u001b[38;5;124m\"\u001b[39m\u001b[38;5;124mshape of np.matmul(a, b): \u001b[39m\u001b[38;5;124m\"\u001b[39m, c\u001b[38;5;241m.\u001b[39mshape)\n",
      "\u001b[0;31mValueError\u001b[0m: matmul: Input operand 1 has a mismatch in its core dimension 0, with gufunc signature (n?,k),(k,m?)->(n?,m?) (size 4 is different from 3)"
     ]
    }
   ],
   "source": [
    "# np.matmul(a, b)\n",
    "a = torch.randn(7,6, 5, 3)\n",
    "b  =torch.randn(4, 4)\n",
    "\n",
    "c = np.matmul(a, b)\n",
    "print(c)\n",
    "print(\"shape of np.matmul(a, b): \", c.shape)"
   ]
  },
  {
   "cell_type": "code",
   "execution_count": 10,
   "metadata": {},
   "outputs": [
    {
     "name": "stdout",
     "output_type": "stream",
     "text": [
      "[[ 5.  5.  5.  5.]\n",
      " [14. 14. 14. 14.]\n",
      " [29. 29. 29. 29.]\n",
      " [50. 50. 50. 50.]\n",
      " [77. 77. 77. 77.]]\n",
      "shape of the output:  (5, 4)\n"
     ]
    }
   ],
   "source": [
    "# Question 2\n",
    "import numpy as np\n",
    "\n",
    "# m = int(input())\n",
    "# n = int(input())\n",
    "# d = int(input())\n",
    "# shape_x = (m, d)\n",
    "# shape_y = (n, d)\n",
    "\n",
    "# X = np.random.randn(*shape_x)\n",
    "# Y = np.random.randn(*shape_y)\n",
    "\n",
    "X = np.array([[1,2,3],[2,3,4],[3,4,5],[4,5,6],[5,6,7]])\n",
    "Y = np.array([[1,1,1],[1,1,1],[1,1,1],[1,1,1]])\n",
    "\n",
    "M = X.shape[0]\n",
    "N = Y.shape[0]\n",
    "\n",
    "assert X.shape[1] == Y.shape[1]\n",
    "\n",
    "X_dots = (X*X).sum(axis=1).reshape((M,1))*np.ones(shape=(1,N))\n",
    "Y_dots = (Y*Y).sum(axis=1)*np.ones(shape=(M,1))\n",
    "\n",
    "D_squared =  X_dots + Y_dots -2*X.dot(Y.T)\n",
    "\n",
    "print(D_squared)\n",
    "print(\"shape of the output: \", D_squared.shape)"
   ]
  },
  {
   "cell_type": "code",
   "execution_count": 9,
   "metadata": {},
   "outputs": [
    {
     "name": "stdout",
     "output_type": "stream",
     "text": [
      "[[2.23606798 2.23606798 2.23606798 2.23606798]\n",
      " [3.74165739 3.74165739 3.74165739 3.74165739]\n",
      " [5.38516481 5.38516481 5.38516481 5.38516481]\n",
      " [7.07106781 7.07106781 7.07106781 7.07106781]\n",
      " [8.77496439 8.77496439 8.77496439 8.77496439]]\n"
     ]
    }
   ],
   "source": [
    "import numpy as np\n",
    "\n",
    "# Define the dimensions of the matrix\n",
    "m = 5\n",
    "n = 4\n",
    "d = 3\n",
    "\n",
    "# Create random matrices\n",
    "A = np.random.rand(m, d)\n",
    "B = np.random.rand(n, d)\n",
    "\n",
    "# Optimized function to compute squared Euclidean distances\n",
    "def compute_squared_distances_optimized(A, B):\n",
    "    # Using broadcasting to compute the squared Euclidean distances\n",
    "    A_exp = A[:, np.newaxis, :]  # Expand A to shape (m, 1, d)\n",
    "    B_exp = B[np.newaxis, :, :]  # Expand B to shape (1, n, d)\n",
    "    \n",
    "    # Compute the pairwise squared differences\n",
    "    D = np.sum((A_exp - B_exp)**2, axis=2) ** 0.5 # Sum over the last axis (dimension)\n",
    "\n",
    "    # The following code will also perform a similar operation \n",
    "    # Compute the Euclidean norm (L2) across the last axis and square the result\n",
    "    # D = np.linalg.norm(A_exp - B_exp, axis=2) \n",
    "\n",
    "    return D\n",
    "\n",
    "# Compute the distances\n",
    "D_optimized = compute_squared_distances_optimized(A, B)\n",
    "\n",
    "print(D_optimized)\n"
   ]
  },
  {
   "cell_type": "code",
   "execution_count": 12,
   "metadata": {},
   "outputs": [
    {
     "name": "stdout",
     "output_type": "stream",
     "text": [
      "[[0.41406258 0.5535224  0.26561949 0.75226057]\n",
      " [0.79276466 0.48239039 0.65547999 0.31796679]\n",
      " [0.84623284 0.54582536 0.58764972 0.95103103]\n",
      " [0.54530051 0.86013369 0.23080766 0.88510572]\n",
      " [0.66393211 0.32556835 0.75397319 0.76940679]]\n"
     ]
    }
   ],
   "source": [
    "import numpy as np\n",
    "\n",
    "# Define the dimensions of the matrix\n",
    "m = 5\n",
    "n = 4\n",
    "d = 3\n",
    "\n",
    "# Create random matrices\n",
    "A = np.random.rand(m, d)\n",
    "B = np.random.rand(n, d)\n",
    "\n",
    "# Function to compute squared Euclidean distances using np.linalg.norm\n",
    "def compute_squared_distances_norm(A, B):\n",
    "    # Reshape and broadcast A and B to compute pairwise distances\n",
    "    A_exp = A[:, np.newaxis, :]  # Expand A to shape (m, 1, d)\n",
    "    B_exp = B[np.newaxis, :, :]  # Expand B to shape (1, n, d)\n",
    "    \n",
    "    # Compute the Euclidean norm (L2) across the last axis and square the result\n",
    "    D = np.linalg.norm(A_exp - B_exp, axis=2)\n",
    "    return D\n",
    "\n",
    "# Compute the distances\n",
    "D_norm = compute_squared_distances_norm(A, B)\n",
    "\n",
    "print(D_norm)\n"
   ]
  },
  {
   "cell_type": "code",
   "execution_count": null,
   "metadata": {},
   "outputs": [],
   "source": []
  }
 ],
 "metadata": {
  "kernelspec": {
   "display_name": "neural_networks",
   "language": "python",
   "name": "python3"
  },
  "language_info": {
   "codemirror_mode": {
    "name": "ipython",
    "version": 3
   },
   "file_extension": ".py",
   "mimetype": "text/x-python",
   "name": "python",
   "nbconvert_exporter": "python",
   "pygments_lexer": "ipython3",
   "version": "3.12.7"
  }
 },
 "nbformat": 4,
 "nbformat_minor": 2
}
